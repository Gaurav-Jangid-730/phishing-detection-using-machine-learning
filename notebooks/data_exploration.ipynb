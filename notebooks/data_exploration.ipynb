{
 "cells": [
  {
   "cell_type": "code",
   "execution_count": 49,
   "metadata": {},
   "outputs": [],
   "source": [
    "data.to_csv('cleaned_data.csv', index=False) # type: ignore"
   ]
  },
  {
   "cell_type": "markdown",
   "metadata": {},
   "source": [
    "6. Save Cleaned Data\n",
    "- Save the cleaned and transformed dataset for model training."
   ]
  },
  {
   "cell_type": "code",
   "execution_count": 48,
   "metadata": {},
   "outputs": [],
   "source": [
    "data['total_special_chars_url'] = ( # type: ignore\n",
    "    data['qty_dot_url'] + data['qty_hyphen_url'] + data['qty_underline_url'] # type: ignore\n",
    ")"
   ]
  },
  {
   "cell_type": "markdown",
   "metadata": {},
   "source": [
    "5. Feature Engineering\n",
    "    - Combine or transform columns to add more meaningful features (e.g., total_special_chars_url = qty_dot_url + qty_hyphen_url + ...)."
   ]
  },
  {
   "cell_type": "code",
   "execution_count": 47,
   "metadata": {},
   "outputs": [
    {
     "name": "stdout",
     "output_type": "stream",
     "text": [
      "phishing                      1.000000\n",
      "qty_slash_directory           0.746454\n",
      "qty_questionmark_directory    0.745644\n",
      "qty_questionmark_file         0.745644\n",
      "qty_slash_file                0.745644\n",
      "                                ...   \n",
      "qty_plus_domain                    NaN\n",
      "qty_asterisk_domain                NaN\n",
      "qty_hashtag_domain                 NaN\n",
      "qty_dollar_domain                  NaN\n",
      "qty_percent_domain                 NaN\n",
      "Name: phishing, Length: 112, dtype: float64\n"
     ]
    }
   ],
   "source": [
    "correlation_matrix = data.corr() # type: ignore\n",
    "correlation_with_target = correlation_matrix['phishing'].sort_values(ascending=False)\n",
    "print(correlation_with_target)"
   ]
  },
  {
   "cell_type": "markdown",
   "metadata": {},
   "source": [
    "4. Correlation Analysis\n",
    "    - Identify features with high correlation to the target variable (phishing)."
   ]
  },
  {
   "cell_type": "code",
   "execution_count": 46,
   "metadata": {},
   "outputs": [],
   "source": [
    "from imblearn.over_sampling import SMOTE\n",
    "\n",
    "X = data.drop('phishing', axis=1) # type: ignore\n",
    "y = data['phishing'] # type: ignore\n",
    "smote = SMOTE(random_state=42)\n",
    "X_resampled, y_resampled = smote.fit_resample(X, y)"
   ]
  },
  {
   "cell_type": "markdown",
   "metadata": {},
   "source": [
    "Handle Imbalance:\n",
    "Use oversampling (e.g., SMOTE) or undersampling to balance classes."
   ]
  },
  {
   "cell_type": "code",
   "execution_count": 45,
   "metadata": {},
   "outputs": [
    {
     "name": "stdout",
     "output_type": "stream",
     "text": [
      "phishing\n",
      "0    0.65428\n",
      "1    0.34572\n",
      "Name: proportion, dtype: float64\n"
     ]
    }
   ],
   "source": [
    "print(data['phishing'].value_counts(normalize=True)) # type: ignore"
   ]
  },
  {
   "cell_type": "markdown",
   "metadata": {},
   "source": [
    "3. Balance the Dataset\n",
    "The phishing target column has a mean of 0.3457, which suggests class imbalance.\n",
    "\n",
    "Steps:\n",
    "    - Check Class Distribution:"
   ]
  },
  {
   "cell_type": "code",
   "execution_count": 44,
   "metadata": {},
   "outputs": [],
   "source": [
    "upper_limit = data['qty_dot_url'].quantile(0.95) # type: ignore\n",
    "data['qty_dot_url'] = data['qty_dot_url'].clip(upper=upper_limit) # type: ignore"
   ]
  },
  {
   "cell_type": "markdown",
   "metadata": {},
   "source": [
    "Cap extreme values to reduce their influence (optional)."
   ]
  },
  {
   "cell_type": "code",
   "execution_count": 43,
   "metadata": {},
   "outputs": [
    {
     "data": {
      "image/png": "[encoded data removed]",
      "text/plain": [
       "<Figure size 640x480 with 1 Axes>"
      ]
     },
     "metadata": {},
     "output_type": "display_data"
    }
   ],
   "source": [
    "import seaborn as sns\n",
    "import matplotlib.pyplot as plt\n",
    "\n",
    "sns.boxplot(data['qty_dot_url']) # type: ignore\n",
    "plt.show()\n"
   ]
  },
  {
   "cell_type": "markdown",
   "metadata": {},
   "source": [
    "2. Analyze Distribution of Numerical Columns\n",
    "Columns like qty_dot_url, qty_hyphen_url, and others have high standard deviations compared to their means, indicating possible outliers.\n",
    "\n",
    "Steps:\n",
    "    - Visualize distributions using histograms or boxplots."
   ]
  },
  {
   "cell_type": "code",
   "execution_count": 42,
   "metadata": {},
   "outputs": [],
   "source": [
    "columns_with_negatives = ['qty_ip_resolved', 'url_google_index', 'domain_google_index', 'ttl_hostname']\n",
    "for col in columns_with_negatives:\n",
    "    data[col] = data[col].replace(-1, 0)  # Replace -1 with 0 (or NaN for imputation) # type: ignore\n"
   ]
  },
  {
   "cell_type": "markdown",
   "metadata": {},
   "source": [
    "3. Handle Missing Values\n",
    "    - Depending on the column and context:\n",
    "\n",
    "Numerical Columns: Fill with mean, median, or a specific value."
   ]
  },
  {
   "cell_type": "code",
   "execution_count": 41,
   "metadata": {},
   "outputs": [
    {
     "name": "stdout",
     "output_type": "stream",
     "text": [
      "qty_dot_url             0\n",
      "qty_hyphen_url          0\n",
      "qty_underline_url       0\n",
      "qty_slash_url           0\n",
      "qty_questionmark_url    0\n",
      "                       ..\n",
      "qty_redirects           0\n",
      "url_google_index        0\n",
      "domain_google_index     0\n",
      "url_shortened           0\n",
      "phishing                0\n",
      "Length: 112, dtype: int64\n"
     ]
    }
   ],
   "source": [
    "print(data.isnull().sum()) # type: ignore"
   ]
  },
  {
   "cell_type": "markdown",
   "metadata": {},
   "source": [
    "4. Check for Missing Values\n",
    "    - Identify columns with missing values."
   ]
  },
  {
   "cell_type": "code",
   "execution_count": 40,
   "metadata": {},
   "outputs": [
    {
     "name": "stdout",
     "output_type": "stream",
     "text": [
      "qty_dot_url             int64\n",
      "qty_hyphen_url          int64\n",
      "qty_underline_url       int64\n",
      "qty_slash_url           int64\n",
      "qty_questionmark_url    int64\n",
      "                        ...  \n",
      "qty_redirects           int64\n",
      "url_google_index        int64\n",
      "domain_google_index     int64\n",
      "url_shortened           int64\n",
      "phishing                int64\n",
      "Length: 112, dtype: object\n"
     ]
    }
   ],
   "source": [
    "print(data.dtypes) # type: ignore"
   ]
  },
  {
   "cell_type": "markdown",
   "metadata": {},
   "source": [
    "3. Check Data Types\n",
    "    - Verify that columns have the correct data types."
   ]
  },
  {
   "cell_type": "code",
   "execution_count": 39,
   "metadata": {},
   "outputs": [
    {
     "name": "stdout",
     "output_type": "stream",
     "text": [
      "        qty_dot_url  qty_hyphen_url  qty_underline_url  qty_slash_url  \\\n",
      "count  88647.000000    88647.000000       88647.000000   88647.000000   \n",
      "mean       2.191343        0.328810           0.113879       1.281781   \n",
      "std        1.235636        1.119286           0.657767       1.893929   \n",
      "min        1.000000        0.000000           0.000000       0.000000   \n",
      "25%        2.000000        0.000000           0.000000       0.000000   \n",
      "50%        2.000000        0.000000           0.000000       0.000000   \n",
      "75%        2.000000        0.000000           0.000000       2.000000   \n",
      "max       24.000000       35.000000          21.000000      44.000000   \n",
      "\n",
      "       qty_questionmark_url  qty_equal_url    qty_at_url   qty_and_url  \\\n",
      "count          88647.000000   88647.000000  88647.000000  88647.000000   \n",
      "mean               0.009329       0.205861      0.022133      0.140885   \n",
      "std                0.112568       0.954272      0.279652      0.924864   \n",
      "min                0.000000       0.000000      0.000000      0.000000   \n",
      "25%                0.000000       0.000000      0.000000      0.000000   \n",
      "50%                0.000000       0.000000      0.000000      0.000000   \n",
      "75%                0.000000       0.000000      0.000000      0.000000   \n",
      "max                9.000000      23.000000     43.000000     26.000000   \n",
      "\n",
      "       qty_exclamation_url  qty_space_url  ...  qty_ip_resolved  \\\n",
      "count         88647.000000   88647.000000  ...     88647.000000   \n",
      "mean              0.002944       0.001015  ...         1.136564   \n",
      "std               0.087341       0.072653  ...         0.895146   \n",
      "min               0.000000       0.000000  ...        -1.000000   \n",
      "25%               0.000000       0.000000  ...         1.000000   \n",
      "50%               0.000000       0.000000  ...         1.000000   \n",
      "75%               0.000000       0.000000  ...         1.000000   \n",
      "max              10.000000       9.000000  ...        24.000000   \n",
      "\n",
      "       qty_nameservers  qty_mx_servers   ttl_hostname  tls_ssl_certificate  \\\n",
      "count     88647.000000    88647.000000   88647.000000         88647.000000   \n",
      "mean          2.772412        1.742428    6159.877514             0.506447   \n",
      "std           1.322999        1.706705   11465.583810             0.499961   \n",
      "min           0.000000        0.000000      -1.000000             0.000000   \n",
      "25%           2.000000        1.000000     292.000000             0.000000   \n",
      "50%           2.000000        1.000000    2029.000000             1.000000   \n",
      "75%           4.000000        2.000000   10798.000000             1.000000   \n",
      "max          20.000000       20.000000  604800.000000             1.000000   \n",
      "\n",
      "       qty_redirects  url_google_index  domain_google_index  url_shortened  \\\n",
      "count   88647.000000       88647.00000         88647.000000   88647.000000   \n",
      "mean        0.343903           0.00141             0.002019       0.005482   \n",
      "std         0.783892           0.05864             0.063250       0.073841   \n",
      "min        -1.000000          -1.00000            -1.000000       0.000000   \n",
      "25%         0.000000           0.00000             0.000000       0.000000   \n",
      "50%         0.000000           0.00000             0.000000       0.000000   \n",
      "75%         1.000000           0.00000             0.000000       0.000000   \n",
      "max        17.000000           1.00000             1.000000       1.000000   \n",
      "\n",
      "           phishing  \n",
      "count  88647.000000  \n",
      "mean       0.345720  \n",
      "std        0.475605  \n",
      "min        0.000000  \n",
      "25%        0.000000  \n",
      "50%        0.000000  \n",
      "75%        1.000000  \n",
      "max        1.000000  \n",
      "\n",
      "[8 rows x 112 columns]\n"
     ]
    }
   ],
   "source": [
    "print(data.describe()) # type: ignore"
   ]
  },
  {
   "cell_type": "markdown",
   "metadata": {},
   "source": [
    "2. Understand the Data\n",
    "    - Basic Summary Statistics\n",
    "    - Use .describe() to get a statistical summary of numerical columns."
   ]
  },
  {
   "cell_type": "code",
   "execution_count": 38,
   "metadata": {},
   "outputs": [
    {
     "name": "stdout",
     "output_type": "stream",
     "text": [
      "<class 'pandas.core.frame.DataFrame'>\n",
      "RangeIndex: 88647 entries, 0 to 88646\n",
      "Columns: 112 entries, qty_dot_url to phishing\n",
      "dtypes: float64(1), int64(111)\n",
      "memory usage: 75.7 MB\n",
      "None\n",
      "   qty_dot_url  qty_hyphen_url  qty_underline_url  qty_slash_url  \\\n",
      "0            3               0                  0              1   \n",
      "1            5               0                  1              3   \n",
      "2            2               0                  0              1   \n",
      "3            4               0                  2              5   \n",
      "4            2               0                  0              0   \n",
      "\n",
      "   qty_questionmark_url  qty_equal_url  qty_at_url  qty_and_url  \\\n",
      "0                     0              0           0            0   \n",
      "1                     0              3           0            2   \n",
      "2                     0              0           0            0   \n",
      "3                     0              0           0            0   \n",
      "4                     0              0           0            0   \n",
      "\n",
      "   qty_exclamation_url  qty_space_url  ...  qty_ip_resolved  qty_nameservers  \\\n",
      "0                    0              0  ...                1                2   \n",
      "1                    0              0  ...                1                2   \n",
      "2                    0              0  ...                1                2   \n",
      "3                    0              0  ...                1                2   \n",
      "4                    0              0  ...                1                2   \n",
      "\n",
      "   qty_mx_servers  ttl_hostname  tls_ssl_certificate  qty_redirects  \\\n",
      "0               0           892                    0              0   \n",
      "1               1          9540                    1              0   \n",
      "2               3           589                    1              0   \n",
      "3               0           292                    1              0   \n",
      "4               1          3597                    0              1   \n",
      "\n",
      "   url_google_index  domain_google_index  url_shortened  phishing  \n",
      "0                 0                    0              0         1  \n",
      "1                 0                    0              0         1  \n",
      "2                 0                    0              0         0  \n",
      "3                 0                    0              0         1  \n",
      "4                 0                    0              0         0  \n",
      "\n",
      "[5 rows x 112 columns]\n"
     ]
    }
   ],
   "source": [
    "import pandas as pd\n",
    "\n",
    "# Load dataset\n",
    "data = pd.read_csv('..//data//dataset_full.csv')\n",
    "\n",
    "# Display basic info\n",
    "print(data.info())\n",
    "print(data.head())"
   ]
  },
  {
   "cell_type": "markdown",
   "metadata": {},
   "source": [
    "1. Load the Dataset\n",
    "    - Import the necessary libraries and load the dataset."
   ]
  }
 ],
 "metadata": {
  "kernelspec": {
   "display_name": "Python 3",
   "language": "python",
   "name": "python3"
  },
  "language_info": {
   "codemirror_mode": {
    "name": "ipython",
    "version": 3
   },
   "file_extension": ".py",
   "mimetype": "text/x-python",
   "name": "python",
   "nbconvert_exporter": "python",
   "pygments_lexer": "ipython3",
   "version": "3.12.6"
  }
 },
 "nbformat": 4,
 "nbformat_minor": 2
}
